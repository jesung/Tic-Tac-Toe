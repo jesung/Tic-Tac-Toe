{
  "nbformat": 4,
  "nbformat_minor": 0,
  "metadata": {
    "colab": {
      "name": "Untitled0.ipynb",
      "version": "0.3.2",
      "provenance": [],
      "include_colab_link": true
    },
    "kernelspec": {
      "name": "python3",
      "display_name": "Python 3"
    }
  },
  "cells": [
    {
      "cell_type": "markdown",
      "metadata": {
        "id": "view-in-github",
        "colab_type": "text"
      },
      "source": [
        "<a href=\"https://colab.research.google.com/github/jesung/Tic-Tac-Toe/blob/master/tic-tac-toe.ipynb\" target=\"_parent\"><img src=\"https://colab.research.google.com/assets/colab-badge.svg\" alt=\"Open In Colab\"/></a>"
      ]
    },
    {
      "metadata": {
        "id": "Q-YV9eVABmka",
        "colab_type": "code",
        "colab": {}
      },
      "cell_type": "code",
      "source": [
        "import numpy as np\n",
        "import tensorflow as tf\n",
        "from tensorflow import keras\n",
        "\n",
        "model = keras.models.Sequential([\n",
        "    keras.layers.Dense(18, activation=tf.nn.relu, input_shape=(9,1)),\n",
        "    keras.layers.Dropout(0.1),\n",
        "    keras.layers.Dense(9, activation=tf.nn.relu),\n",
        "    keras.layers.Dropout(0.1),\n",
        "    keras.layers.Dense(1, activation=tf.nn.sigmoid)\n",
        "])\n",
        "\n",
        "model.compile(optimizer='adam',\n",
        "                  loss='binary_crossentropy',\n",
        "                  metrics=['accuracy','binary_crossentropy'])\n",
        "\n",
        "class tic_tac_toe:\n",
        "    def __init__(self):\n",
        "        self.board = np.array([[2,2,2],[2,2,2],[2,2,2]])\n",
        "        self.turn = 0\n",
        "\n",
        "    def reset(self):\n",
        "        self.board = np.array([[2,2,2],[2,2,2],[2,2,2]])\n",
        "        self.turn = 0\n",
        "\n",
        "    def move(self,x,y):\n",
        "        if win(self):\n",
        "            print('Invalid move - game is over')\n",
        "        else:\n",
        "            self.board[x,y] = self.turn\n",
        "            \n",
        "            if self.turn == 0:\n",
        "                self.turn = 1\n",
        "            else:\n",
        "                self.turn = 0\n",
        "\n",
        "    def win(self):\n",
        "        for i in range(3):\n",
        "            if self.board[0,i]==self.board[1,i]==self.board[2,i]<2:\n",
        "                return 'Won'\n",
        "            if self.board[i,0]==self.board[i,1]==self.board[i,2]<2:\n",
        "                return 'Won'\n",
        "\n",
        "        if self.board[0,0]==self.board[1,1]==self.board[2,2]<2:\n",
        "            return 'Won'\n",
        "        if self.board[0,2]==self.board[1,1]==self.board[0,2]<2:\n",
        "            return 'Won'\n",
        "\n",
        "        if not 2 in self.board:\n",
        "            return 'Drawn'\n",
        "        else:\n",
        "            return 'In-Progress'\n",
        "\n",
        "def move_gen(board_state, turn):\n",
        "    legal_moves = {}\n",
        "    \n",
        "    for i in range(3):\n",
        "        for j in range(3):\n",
        "            if board_state[i,j] == 2:\n",
        "                tmp_board = board_state.copy()\n",
        "                tmp_board[i,j] = turn\n",
        "                legal_moves[(i,j)]=tmp_board.flatten()\n",
        "\n",
        "    return legal_moves\n",
        "    \n"
      ],
      "execution_count": 0,
      "outputs": []
    },
    {
      "metadata": {
        "id": "4AKEUSu0BkYP",
        "colab_type": "code",
        "colab": {}
      },
      "cell_type": "code",
      "source": [
        ""
      ],
      "execution_count": 0,
      "outputs": []
    }
  ]
}