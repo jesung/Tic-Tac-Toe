{
  "nbformat": 4,
  "nbformat_minor": 0,
  "metadata": {
    "colab": {
      "name": "RLbook-1_tic_tac_toe.ipynb",
      "provenance": [],
      "include_colab_link": true
    },
    "kernelspec": {
      "name": "python3",
      "display_name": "Python 3"
    }
  },
  "cells": [
    {
      "cell_type": "markdown",
      "metadata": {
        "id": "view-in-github",
        "colab_type": "text"
      },
      "source": [
        "<a href=\"https://colab.research.google.com/github/jesung/Tic-Tac-Toe/blob/master/Chapter1/RLbook_1_tic_tac_toe.ipynb\" target=\"_parent\"><img src=\"https://colab.research.google.com/assets/colab-badge.svg\" alt=\"Open In Colab\"/></a>"
      ]
    },
    {
      "cell_type": "code",
      "metadata": {
        "id": "RxrGMG0aZLyP",
        "colab_type": "code",
        "colab": {
          "base_uri": "https://localhost:8080/",
          "height": 374
        },
        "outputId": "ab8b46f7-e41e-481c-c962-6fefe94fdb0f"
      },
      "source": [
        "!pip install git+https://github.com/ClementRomac/gym-tictactoe\n"
      ],
      "execution_count": 3,
      "outputs": [
        {
          "output_type": "stream",
          "text": [
            "Collecting git+https://github.com/ClementRomac/gym-tictactoe\n",
            "  Cloning https://github.com/ClementRomac/gym-tictactoe to /tmp/pip-req-build-ts6dipr9\n",
            "  Running command git clone -q https://github.com/ClementRomac/gym-tictactoe /tmp/pip-req-build-ts6dipr9\n",
            "Requirement already satisfied: gym>=0.2.3 in /usr/local/lib/python3.6/dist-packages (from gym-tictactoe==0.0.1) (0.10.11)\n",
            "Requirement already satisfied: numpy>=1.10.4 in /usr/local/lib/python3.6/dist-packages (from gym>=0.2.3->gym-tictactoe==0.0.1) (1.16.5)\n",
            "Requirement already satisfied: six in /usr/local/lib/python3.6/dist-packages (from gym>=0.2.3->gym-tictactoe==0.0.1) (1.12.0)\n",
            "Requirement already satisfied: pyglet>=1.2.0 in /usr/local/lib/python3.6/dist-packages (from gym>=0.2.3->gym-tictactoe==0.0.1) (1.4.4)\n",
            "Requirement already satisfied: requests>=2.0 in /usr/local/lib/python3.6/dist-packages (from gym>=0.2.3->gym-tictactoe==0.0.1) (2.21.0)\n",
            "Requirement already satisfied: scipy in /usr/local/lib/python3.6/dist-packages (from gym>=0.2.3->gym-tictactoe==0.0.1) (1.3.1)\n",
            "Requirement already satisfied: future in /usr/local/lib/python3.6/dist-packages (from pyglet>=1.2.0->gym>=0.2.3->gym-tictactoe==0.0.1) (0.16.0)\n",
            "Requirement already satisfied: certifi>=2017.4.17 in /usr/local/lib/python3.6/dist-packages (from requests>=2.0->gym>=0.2.3->gym-tictactoe==0.0.1) (2019.9.11)\n",
            "Requirement already satisfied: urllib3<1.25,>=1.21.1 in /usr/local/lib/python3.6/dist-packages (from requests>=2.0->gym>=0.2.3->gym-tictactoe==0.0.1) (1.24.3)\n",
            "Requirement already satisfied: chardet<3.1.0,>=3.0.2 in /usr/local/lib/python3.6/dist-packages (from requests>=2.0->gym>=0.2.3->gym-tictactoe==0.0.1) (3.0.4)\n",
            "Requirement already satisfied: idna<2.9,>=2.5 in /usr/local/lib/python3.6/dist-packages (from requests>=2.0->gym>=0.2.3->gym-tictactoe==0.0.1) (2.8)\n",
            "Building wheels for collected packages: gym-tictactoe\n",
            "  Building wheel for gym-tictactoe (setup.py) ... \u001b[?25l\u001b[?25hdone\n",
            "  Created wheel for gym-tictactoe: filename=gym_tictactoe-0.0.1-cp36-none-any.whl size=3867 sha256=4f025025f95e224edc7c48de6c5954469658364d7464015ad08c70996b937b82\n",
            "  Stored in directory: /tmp/pip-ephem-wheel-cache-mwuzvj0w/wheels/bb/4c/4f/7f09353a58a0d6cf8a583cf26301cc12dfd2540c7e1abc0f25\n",
            "Successfully built gym-tictactoe\n",
            "Installing collected packages: gym-tictactoe\n",
            "Successfully installed gym-tictactoe-0.0.1\n"
          ],
          "name": "stdout"
        }
      ]
    },
    {
      "cell_type": "code",
      "metadata": {
        "id": "zTNsNJWKWhfQ",
        "colab_type": "code",
        "colab": {
          "base_uri": "https://localhost:8080/",
          "height": 71
        },
        "outputId": "de3ad875-9f6e-42a4-eaf5-48cd1a212a10"
      },
      "source": [
        "import gym\n",
        "import gym_tictactoe\n",
        "env = gym.make('TicTacToe-v1')  \n",
        "env.init(symbols=[-1, 1]) # Define users symbols"
      ],
      "execution_count": 4,
      "outputs": [
        {
          "output_type": "stream",
          "text": [
            "/usr/local/lib/python3.6/dist-packages/gym/logger.py:30: UserWarning: \u001b[33mWARN: Environment '<class 'gym_tictactoe.tic_tac_toe.TicTacToeEnv'>' has deprecated methods '_step' and '_reset' rather than 'step' and 'reset'. Compatibility code invoked. Set _gym_disable_underscore_compat = True to disable this behavior.\u001b[0m\n",
            "  warnings.warn(colorize('%s: %s'%('WARN', msg % args), 'yellow'))\n"
          ],
          "name": "stderr"
        }
      ]
    }
  ]
}