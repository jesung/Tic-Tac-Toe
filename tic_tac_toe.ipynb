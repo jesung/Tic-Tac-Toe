{
  "nbformat": 4,
  "nbformat_minor": 0,
  "metadata": {
    "colab": {
      "name": "tic-tac-toe.ipynb",
      "version": "0.3.2",
      "provenance": [],
      "collapsed_sections": [],
      "include_colab_link": true
    },
    "kernelspec": {
      "name": "python3",
      "display_name": "Python 3"
    }
  },
  "cells": [
    {
      "cell_type": "markdown",
      "metadata": {
        "id": "view-in-github",
        "colab_type": "text"
      },
      "source": [
        "<a href=\"https://colab.research.google.com/github/jesung/Tic-Tac-Toe/blob/master/tic_tac_toe.ipynb\" target=\"_parent\"><img src=\"https://colab.research.google.com/assets/colab-badge.svg\" alt=\"Open In Colab\"/></a>"
      ]
    },
    {
      "metadata": {
        "id": "Q-YV9eVABmka",
        "colab_type": "code",
        "colab": {}
      },
      "cell_type": "code",
      "source": [
        "import pprint\n",
        "import numpy as np\n",
        "import tensorflow as tf\n",
        "from tensorflow import keras\n",
        "import random\n",
        "\n",
        "model = keras.models.Sequential([\n",
        "    keras.layers.Dense(18, activation=tf.nn.relu, input_shape=(1,9)),\n",
        "    keras.layers.Dropout(0.1),\n",
        "    keras.layers.Dense(9, activation=tf.nn.relu),\n",
        "    keras.layers.Dropout(0.1),\n",
        "    keras.layers.Dense(1, activation=tf.nn.sigmoid)\n",
        "])\n",
        "\n",
        "model.compile(optimizer='adam',\n",
        "                  loss='binary_crossentropy',\n",
        "                  metrics=['accuracy','binary_crossentropy'])\n",
        "\n",
        "class tic_tac_toe:\n",
        "    def __init__(self):\n",
        "        self.board = np.array([[2,2,2],[2,2,2],[2,2,2]])\n",
        "        self.turn = 0\n",
        "\n",
        "    def reset(self):\n",
        "        self.board = np.array([[2,2,2],[2,2,2],[2,2,2]])\n",
        "        self.turn = 0\n",
        "\n",
        "    def move(self,x,y):\n",
        "        ##### need to update #######\n",
        "        if self.board[x,y] != 2:   \n",
        "            print('Invalid move',x,y)\n",
        "            print(self.board)\n",
        "        else:\n",
        "            self.board[x,y] = self.turn\n",
        "            \n",
        "            if self.turn == 0:\n",
        "                self.turn = 1\n",
        "            else:\n",
        "                self.turn = 0\n",
        "\n",
        "    def win(self):\n",
        "        for i in range(3):\n",
        "            if self.board[0,i]==self.board[1,i]==self.board[2,i]<2:\n",
        "                return 'Won'\n",
        "            if self.board[i,0]==self.board[i,1]==self.board[i,2]<2:\n",
        "                return 'Won'\n",
        "\n",
        "        if self.board[0,0]==self.board[1,1]==self.board[2,2]<2:\n",
        "            return 'Won'\n",
        "        if self.board[0,2]==self.board[1,1]==self.board[0,2]<2:\n",
        "            return 'Won'\n",
        "\n",
        "        if not 2 in self.board:\n",
        "            return 'Drawn'\n",
        "        else:\n",
        "            return 'In-Progress'\n",
        "\n",
        "def move_gen(board_state, turn):\n",
        "    legal_moves = {}\n",
        "    \n",
        "    for i in range(3):\n",
        "        for j in range(3):\n",
        "            if board_state[i,j] == 2:\n",
        "                tmp_board = board_state.copy()\n",
        "                tmp_board[i,j] = turn\n",
        "                legal_moves[(i,j)]=tmp_board.flatten()\n",
        "\n",
        "    return legal_moves\n",
        "  \n",
        "def move_sel(move_list, turn):\n",
        "    tmp = np.zeros((9,12))\n",
        "    i = 0\n",
        "\n",
        "    for key, value in move_list.items():\n",
        "      #print(value.reshape(1,9))\n",
        "      tmp[i,0:9] = value.reshape(1,9)\n",
        "      tmp[i,9] = model.predict(value.reshape(1,1,9))[0][0][0]\n",
        "      tmp[i,10:12] = [key[0], key[1]]\n",
        "      i = i + 1\n",
        "    \n",
        "    #print(tmp)\n",
        "    if turn == 0:\n",
        "      j = random.choices(range(i),tmp[:i,9]**3)\n",
        "    else:  \n",
        "      j = random.choices(range(i),(1-tmp[:i,9])**3)\n",
        "      \n",
        "    return tmp[j,0:9], tmp[j,9][0], (tmp[j,10][0],tmp[j,11][0])\n",
        "\n",
        "def simulate(batch_size, num_epoch):\n",
        "  for i in range(num_epoch):\n",
        "    board, prob, move = move_sel(move_gen(game.board, game.turn), game.turn)\n",
        "    train = [np.append(board,prob)]\n",
        "    \n",
        "    for j in range(batch_size):\n",
        "      board, prob, move = move_sel(move_gen(game.board, game.turn), game.turn)\n",
        "      tmp = [np.append(board,prob)]\n",
        "\n",
        "      while game.win() == 'In-Progress':\n",
        "        board, prob, move = move_sel(move_gen(game.board, game.turn), game.turn)\n",
        "        tmp = np.append(tmp, [np.append(board,prob)], axis = 0)\n",
        "        \n",
        "        #print(move[0], move[1])\n",
        "        game.move(int(move[0]), int(move[1]))\n",
        "\n",
        "      #update score based on result\n",
        "      if game.win() == 'Won':\n",
        "        tmp[:,-1] = game.turn\n",
        "      else:\n",
        "        tmp[:,-1] = 0.5\n",
        "      \n",
        "      #add to training set\n",
        "      train = np.append(train, tmp, axis = 0)\n",
        "      \n",
        "      game.reset()\n",
        "    \n",
        "    #print(train.shape)\n",
        "    #print(train)\n",
        "    print('Epoch', i)\n",
        "    model.fit(train[:,0:9].reshape(-1,1,9), train[:,9].reshape(-1,1,1),epochs=5)"
      ],
      "execution_count": 0,
      "outputs": []
    },
    {
      "metadata": {
        "id": "4AKEUSu0BkYP",
        "colab_type": "code",
        "colab": {}
      },
      "cell_type": "code",
      "source": [
        "#model.summary()\n",
        "\n",
        "game = tic_tac_toe()\n",
        "#game.move(2,2)\n",
        "#game.move(1,1)\n",
        "#game.move(0,0)\n",
        "#game.move(1,0)\n",
        "#game.move(2,0)\n",
        "#game.move(1,2)\n",
        "\n",
        "#print(game.win())\n",
        "\n",
        "#print(game.board)\n",
        "#pprint.pprint(move_gen(game.board,game.turn))\n",
        "\n",
        "simulate(1000,50)\n",
        "\n"
      ],
      "execution_count": 0,
      "outputs": []
    },
    {
      "metadata": {
        "id": "Sd6lu04szCxu",
        "colab_type": "code",
        "outputId": "9fb6da9e-1232-4005-fbe8-246279b05120",
        "colab": {
          "base_uri": "https://localhost:8080/",
          "height": 87
        }
      },
      "cell_type": "code",
      "source": [
        "#game.reset()\n",
        "game.move(0,1)\n",
        "print(game.board)\n",
        "print(move_sel(move_gen(game.board, game.turn), game.turn))\n"
      ],
      "execution_count": 26,
      "outputs": [
        {
          "output_type": "stream",
          "text": [
            "[[2 1 2]\n",
            " [2 1 0]\n",
            " [0 1 0]]\n",
            "(array([[2., 1., 0., 2., 1., 0., 0., 1., 0.]]), 0.7173953652381897, (0.0, 2.0))\n"
          ],
          "name": "stdout"
        }
      ]
    },
    {
      "metadata": {
        "id": "X23JTMn78T7f",
        "colab_type": "code",
        "colab": {}
      },
      "cell_type": "code",
      "source": [
        "game.reset()\n",
        "board, prob, move = move_sel(move_gen(game.board, game.turn), game.turn)\n",
        "tmp = [np.append(board,prob)]\n"
      ],
      "execution_count": 0,
      "outputs": []
    },
    {
      "metadata": {
        "id": "plY3H22q8ddW",
        "colab_type": "code",
        "colab": {}
      },
      "cell_type": "code",
      "source": [
        "while game.win() == 'In-Progress':\n",
        "  board, prob, move = move_sel(move_gen(game.board, game.turn), game.turn)\n",
        "  tmp = np.append(tmp, [np.append(board,prob)], axis = 0)\n",
        "\n",
        "  #print(move[0], move[1])\n",
        "  game.move(int(move[0]), int(move[1]))"
      ],
      "execution_count": 0,
      "outputs": []
    },
    {
      "metadata": {
        "id": "YgmcTOuw8cBH",
        "colab_type": "code",
        "colab": {}
      },
      "cell_type": "code",
      "source": [
        "\n",
        "#update score based on result\n",
        "if game.win() == 'Won':\n",
        "  tmp[:,-1] = game.turn\n",
        "else:\n",
        "  tmp[:,-1] = 0.5\n",
        "\n",
        "#add to training set\n",
        "train = np.append(train, tmp, axis = 0)\n",
        "\n",
        "game.reset()"
      ],
      "execution_count": 0,
      "outputs": []
    },
    {
      "metadata": {
        "id": "F-kHsy-q8_VW",
        "colab_type": "code",
        "colab": {
          "base_uri": "https://localhost:8080/",
          "height": 105
        },
        "outputId": "8c275fc3-51b3-48db-fa52-71527806a046"
      },
      "cell_type": "code",
      "source": [
        "print(game.turn)\n",
        "print(game.board)\n",
        "print(game.win())"
      ],
      "execution_count": 55,
      "outputs": [
        {
          "output_type": "stream",
          "text": [
            "1\n",
            "[[1 0 1]\n",
            " [0 0 1]\n",
            " [1 0 0]]\n",
            "Won\n"
          ],
          "name": "stdout"
        }
      ]
    }
  ]
}