{
  "nbformat": 4,
  "nbformat_minor": 0,
  "metadata": {
    "colab": {
      "name": "Copy of tic-tac-toe.ipynb",
      "version": "0.3.2",
      "provenance": [],
      "collapsed_sections": [],
      "include_colab_link": true
    },
    "kernelspec": {
      "name": "python3",
      "display_name": "Python 3"
    }
  },
  "cells": [
    {
      "cell_type": "markdown",
      "metadata": {
        "id": "view-in-github",
        "colab_type": "text"
      },
      "source": [
        "<a href=\"https://colab.research.google.com/github/jesung/Tic-Tac-Toe/blob/master/tic_tac_toe.ipynb\" target=\"_parent\"><img src=\"https://colab.research.google.com/assets/colab-badge.svg\" alt=\"Open In Colab\"/></a>"
      ]
    },
    {
      "metadata": {
        "id": "bPoVB54AZS6h",
        "colab_type": "code",
        "colab": {}
      },
      "cell_type": "code",
      "source": [
        "!pip install -U -q PyDrive\n",
        "from pydrive.auth import GoogleAuth\n",
        "from pydrive.drive import GoogleDrive\n",
        "from google.colab import auth\n",
        "from oauth2client.client import GoogleCredentials\n",
        "\n",
        "# 1. Authenticate and create the PyDrive client.\n",
        "auth.authenticate_user()\n",
        "gauth = GoogleAuth()\n",
        "gauth.credentials = GoogleCredentials.get_application_default()\n",
        "drive = GoogleDrive(gauth)"
      ],
      "execution_count": 0,
      "outputs": []
    },
    {
      "metadata": {
        "id": "Q-YV9eVABmka",
        "colab_type": "code",
        "colab": {}
      },
      "cell_type": "code",
      "source": [
        "import pprint\n",
        "import numpy as np\n",
        "import tensorflow as tf\n",
        "from tensorflow import keras\n",
        "import random\n",
        "\n",
        "model = keras.models.Sequential([\n",
        "    keras.layers.Dense(32, activation=tf.nn.relu, input_shape=(1,9)),\n",
        "    keras.layers.Dropout(0.2),\n",
        "    keras.layers.Dense(16, activation=tf.nn.relu),\n",
        "    keras.layers.Dropout(0.2),\n",
        "    keras.layers.Dense(1, activation=tf.nn.sigmoid)\n",
        "])\n",
        "\n",
        "model.compile(optimizer='adam',\n",
        "                  loss='binary_crossentropy',\n",
        "                  metrics=['accuracy','binary_crossentropy'])\n",
        "\n",
        "class tic_tac_toe:\n",
        "    def __init__(self):\n",
        "        self.board = np.array([[0,0,0],[0,0,0],[0,0,0]])\n",
        "        self.turn = 1\n",
        "\n",
        "    def reset(self):\n",
        "        self.board = np.array([[0,0,0],[0,0,0],[0,0,0]])\n",
        "        self.turn = 1\n",
        "\n",
        "    def move(self,x,y):\n",
        "        ##### need to update #######\n",
        "        if self.board[x,y] != 0:   \n",
        "            print('Invalid move',x,y)\n",
        "            print(self.board)\n",
        "        else:\n",
        "            self.board[x,y] = self.turn\n",
        "            self.turn = -1 * self.turn\n",
        "\n",
        "def win(board):\n",
        "    #horizontal and vertical\n",
        "    for i in range(3):\n",
        "        if board[0,i]==board[1,i]==board[2,i]!=0:\n",
        "            return 'Won'\n",
        "        if board[i,0]==board[i,1]==board[i,2]!=0:\n",
        "            return 'Won'\n",
        "\n",
        "    #diagonal\n",
        "    if board[0,0]==board[1,1]==board[2,2]!=0:\n",
        "        return 'Won'\n",
        "    if board[0,2]==board[1,1]==board[2,0]!=0:\n",
        "        return 'Won'\n",
        "\n",
        "    #if board is full, game is drawn. In Progress otherwise\n",
        "    if not 0 in board:\n",
        "        return 'Drawn'\n",
        "    else:\n",
        "        return 'In Progress'\n",
        "          \n",
        "def move_gen(board_state, turn):\n",
        "    legal_moves = {}\n",
        "    \n",
        "    #loop through every cell and add to dictionary if cell is unoccupied\n",
        "    for i in range(3):\n",
        "        for j in range(3):\n",
        "            if board_state[i,j] == 0:\n",
        "                tmp_board = board_state.copy()\n",
        "                tmp_board[i,j] = turn\n",
        "                legal_moves[(i,j)]=tmp_board.flatten()\n",
        "\n",
        "    return legal_moves\n",
        "  \n",
        "def move_sel(move_list, turn, train=True):\n",
        "    tmp = np.zeros((9,12))\n",
        "    i = 0\n",
        "\n",
        "    for key, value in move_list.items():\n",
        "      tmp[i,0:9] = value.reshape(1,9)\n",
        "      tmp[i,9] = model.predict(value.reshape(1,1,9))[0][0][0]\n",
        "      tmp[i,10:12] = [key[0], key[1]]\n",
        "      if not train:\n",
        "          print(tmp[i,9], (tmp[i,10],tmp[i,11]))\n",
        "      \n",
        "      #if win(value.reshape(3,3)) == 'Win':\n",
        "      #    return tmp[i,0:9], tmp[i,9], (tmp[i,10],tmp[i,11])\n",
        "      i = i + 1\n",
        "    \n",
        "    if random.randint(1,5) == train:\n",
        "        #pick a move based on probability\n",
        "        #if turn == 0:\n",
        "            #j = random.choices(range(i),tmp[:i,9]**1)\n",
        "        #else:  \n",
        "            #j = random.choices(range(i),(1-tmp[:i,9])**1)\n",
        "        #pick a random legal move\n",
        "        j = random.randint(0,i-1)\n",
        "    else:\n",
        "        if turn == 1:\n",
        "            j = np.argmax(tmp[:i,9])\n",
        "        else:\n",
        "            j = np.argmin(tmp[:i,9])\n",
        "    \n",
        "    return tmp[j,0:9], tmp[j,9], (tmp[j,10],tmp[j,11])\n",
        "\n",
        "def simulate(batch_size, num_round):\n",
        "    result_total = [[0,0,0]]\n",
        "    for i in range(num_round):\n",
        "        board, prob, move = move_sel(move_gen(game.board, game.turn), game.turn)\n",
        "        train = [np.append(board,prob)]\n",
        "        result = [0,0,0]\n",
        "\n",
        "        for j in range(batch_size):\n",
        "            #clean up - train & tmp outside for loops and clear at beginning\n",
        "            board, prob, move = move_sel(move_gen(game.board, game.turn), game.turn)\n",
        "            tmp = [np.append(board,prob)]\n",
        "\n",
        "            while win(game.board) == 'In Progress':\n",
        "                board, prob, move = move_sel(move_gen(game.board, game.turn), game.turn)\n",
        "                tmp = np.append(tmp, [np.append(board,prob)], axis = 0)\n",
        "\n",
        "                #print(move[0], move[1])\n",
        "                game.move(int(move[0]), int(move[1]))\n",
        "\n",
        "            #update score based on result\n",
        "            if win(game.board) == 'Won':\n",
        "                tmp[:,-1] = (1-game.turn)/2\n",
        "                if game.turn == -1:\n",
        "                    result[0] = result[0] + 1        \n",
        "                else:\n",
        "                    result[1] = result[1] + 1        \n",
        "            else:\n",
        "                tmp[:,-1] = 0.5\n",
        "                result[2] = result[2] + 1\n",
        "\n",
        "            #add to training set\n",
        "            np.delete(tmp, 0, 0)\n",
        "            train = np.append(train, tmp, axis = 0)\n",
        "\n",
        "            game.reset()\n",
        "\n",
        "        print('Round', i)\n",
        "        np.delete(train, 0, 0)\n",
        "        model.fit(train[:,0:9].reshape(-1,1,9), train[:,9].reshape(-1,1,1),epochs=3,verbose=0)\n",
        "        print(result[0],'-',result[1],'-',result[2])\n",
        "        result_total = np.append(result_total, [result], axis = 0)\n",
        "        \n",
        "    return result_total"
      ],
      "execution_count": 0,
      "outputs": []
    },
    {
      "metadata": {
        "id": "4AKEUSu0BkYP",
        "colab_type": "code",
        "colab": {}
      },
      "cell_type": "code",
      "source": [
        "#initialize game\n",
        "game = tic_tac_toe()\n",
        "\n",
        "#run simulation and get round results\n",
        "result = simulate(250,400)"
      ],
      "execution_count": 0,
      "outputs": []
    },
    {
      "metadata": {
        "id": "1bICsxYiZeae",
        "colab_type": "code",
        "outputId": "3e87bc2e-cfc4-4d2b-83d5-a0796e8ea136",
        "colab": {
          "base_uri": "https://localhost:8080/",
          "height": 34
        }
      },
      "cell_type": "code",
      "source": [
        "# 2. Save Keras Model or weights on google drive\n",
        "\n",
        "# create on Colab directory\n",
        "model.save('model.h5')    \n",
        "model_file = drive.CreateFile({'title' : 'model.h5'})\n",
        "model_file.SetContentFile('model.h5')\n",
        "model_file.Upload()\n",
        "\n",
        "# download to google drive\n",
        "drive.CreateFile({'id': model_file.get('id')})"
      ],
      "execution_count": 0,
      "outputs": [
        {
          "output_type": "execute_result",
          "data": {
            "text/plain": [
              "GoogleDriveFile({'id': '1l6uENsaAQCPuP4UajhkTy1Bc4dM7uiav'})"
            ]
          },
          "metadata": {
            "tags": []
          },
          "execution_count": 43
        }
      ]
    },
    {
      "metadata": {
        "id": "eu2IzzYzaFUA",
        "colab_type": "code",
        "outputId": "13f8ad69-b835-4a5d-f56f-f66d45ede736",
        "colab": {
          "base_uri": "https://localhost:8080/",
          "height": 34
        }
      },
      "cell_type": "code",
      "source": [
        "#save the weights\n",
        "model.save_weights('model_weights.h5')\n",
        "weights_file = drive.CreateFile({'title' : 'model_weights.h5'})\n",
        "weights_file.SetContentFile('model_weights.h5')\n",
        "weights_file.Upload()\n",
        "drive.CreateFile({'id': weights_file.get('id')})"
      ],
      "execution_count": 0,
      "outputs": [
        {
          "output_type": "execute_result",
          "data": {
            "text/plain": [
              "GoogleDriveFile({'id': '1iD_qFRHVYm63LDtP0dCUQzKxjCv0tYzl'})"
            ]
          },
          "metadata": {
            "tags": []
          },
          "execution_count": 44
        }
      ]
    },
    {
      "metadata": {
        "id": "3inLMZ6MZ-UE",
        "colab_type": "code",
        "colab": {}
      },
      "cell_type": "code",
      "source": [
        "# 3. reload weights from google drive into the model\n",
        "\n",
        "# use (get shareable link) to get file id\n",
        "last_weight_file = drive.CreateFile({'id': '1iD_qFRHVYm63LDtP0dCUQzKxjCv0tYzl'}) \n",
        "last_weight_file.GetContentFile('last_weights.mat')\n",
        "model.load_weights('last_weights.mat')"
      ],
      "execution_count": 0,
      "outputs": []
    },
    {
      "metadata": {
        "id": "Sd6lu04szCxu",
        "colab_type": "code",
        "outputId": "5ed3bf97-2f68-4d78-f7c9-005140d96ae1",
        "colab": {
          "base_uri": "https://localhost:8080/",
          "height": 255
        }
      },
      "cell_type": "code",
      "source": [
        "#game = tic_tac_toe()\n",
        "#game.reset()\n",
        "game.move(2,2)\n",
        "print(win(game.board))\n",
        "print(game.board)\n",
        "print(game.turn)\n",
        "print(move_sel(move_gen(game.board, game.turn), game.turn, train=False))\n"
      ],
      "execution_count": 0,
      "outputs": [
        {
          "output_type": "stream",
          "text": [
            "In Progress\n",
            "[[0 0 0]\n",
            " [0 0 0]\n",
            " [0 0 1]]\n",
            "-1\n",
            "0.5829092264175415 (0.0, 0.0)\n",
            "0.6136220693588257 (0.0, 1.0)\n",
            "0.5779135227203369 (0.0, 2.0)\n",
            "0.6725313067436218 (1.0, 0.0)\n",
            "0.5428320169448853 (1.0, 1.0)\n",
            "0.6779732704162598 (1.0, 2.0)\n",
            "0.5484567284584045 (2.0, 0.0)\n",
            "0.6543210744857788 (2.0, 1.0)\n",
            "(array([ 0.,  0.,  0.,  0., -1.,  0.,  0.,  0.,  1.]), 0.5428320169448853, (1.0, 1.0))\n"
          ],
          "name": "stdout"
        }
      ]
    },
    {
      "metadata": {
        "id": "T9r2faRnjPHy",
        "colab_type": "code",
        "outputId": "32d53a48-48f7-44f4-bc06-183cb981c4c2",
        "colab": {
          "base_uri": "https://localhost:8080/",
          "height": 391
        }
      },
      "cell_type": "code",
      "source": [
        "!pip install tensorflowjs \n"
      ],
      "execution_count": 0,
      "outputs": [
        {
          "output_type": "stream",
          "text": [
            "Requirement already satisfied: tensorflowjs in /usr/local/lib/python3.6/dist-packages (0.6.7)\n",
            "Requirement already satisfied: six==1.11.0 in /usr/local/lib/python3.6/dist-packages (from tensorflowjs) (1.11.0)\n",
            "Requirement already satisfied: tensorflow-hub==0.1.1 in /usr/local/lib/python3.6/dist-packages (from tensorflowjs) (0.1.1)\n",
            "Requirement already satisfied: tensorflow==1.12.0 in /usr/local/lib/python3.6/dist-packages (from tensorflowjs) (1.12.0)\n",
            "Requirement already satisfied: h5py==2.8.0 in /usr/local/lib/python3.6/dist-packages (from tensorflowjs) (2.8.0)\n",
            "Requirement already satisfied: keras==2.2.2 in /usr/local/lib/python3.6/dist-packages (from tensorflowjs) (2.2.2)\n",
            "Requirement already satisfied: numpy==1.15.1 in /usr/local/lib/python3.6/dist-packages (from tensorflowjs) (1.15.1)\n",
            "Requirement already satisfied: protobuf>=3.4.0 in /usr/local/lib/python3.6/dist-packages (from tensorflow-hub==0.1.1->tensorflowjs) (3.6.1)\n",
            "Requirement already satisfied: gast>=0.2.0 in /usr/local/lib/python3.6/dist-packages (from tensorflow==1.12.0->tensorflowjs) (0.2.2)\n",
            "Requirement already satisfied: absl-py>=0.1.6 in /usr/local/lib/python3.6/dist-packages (from tensorflow==1.12.0->tensorflowjs) (0.7.0)\n",
            "Requirement already satisfied: tensorboard<1.13.0,>=1.12.0 in /usr/local/lib/python3.6/dist-packages (from tensorflow==1.12.0->tensorflowjs) (1.12.2)\n",
            "Requirement already satisfied: astor>=0.6.0 in /usr/local/lib/python3.6/dist-packages (from tensorflow==1.12.0->tensorflowjs) (0.7.1)\n",
            "Requirement already satisfied: keras-preprocessing>=1.0.5 in /usr/local/lib/python3.6/dist-packages (from tensorflow==1.12.0->tensorflowjs) (1.0.5)\n",
            "Requirement already satisfied: termcolor>=1.1.0 in /usr/local/lib/python3.6/dist-packages (from tensorflow==1.12.0->tensorflowjs) (1.1.0)\n",
            "Requirement already satisfied: wheel>=0.26 in /usr/local/lib/python3.6/dist-packages (from tensorflow==1.12.0->tensorflowjs) (0.32.3)\n",
            "Requirement already satisfied: keras-applications>=1.0.6 in /usr/local/lib/python3.6/dist-packages (from tensorflow==1.12.0->tensorflowjs) (1.0.6)\n",
            "Requirement already satisfied: grpcio>=1.8.6 in /usr/local/lib/python3.6/dist-packages (from tensorflow==1.12.0->tensorflowjs) (1.15.0)\n",
            "Requirement already satisfied: scipy>=0.14 in /usr/local/lib/python3.6/dist-packages (from keras==2.2.2->tensorflowjs) (1.1.0)\n",
            "Requirement already satisfied: pyyaml in /usr/local/lib/python3.6/dist-packages (from keras==2.2.2->tensorflowjs) (3.13)\n",
            "Requirement already satisfied: setuptools in /usr/local/lib/python3.6/dist-packages (from protobuf>=3.4.0->tensorflow-hub==0.1.1->tensorflowjs) (40.6.3)\n",
            "Requirement already satisfied: markdown>=2.6.8 in /usr/local/lib/python3.6/dist-packages (from tensorboard<1.13.0,>=1.12.0->tensorflow==1.12.0->tensorflowjs) (3.0.1)\n",
            "Requirement already satisfied: werkzeug>=0.11.10 in /usr/local/lib/python3.6/dist-packages (from tensorboard<1.13.0,>=1.12.0->tensorflow==1.12.0->tensorflowjs) (0.14.1)\n"
          ],
          "name": "stdout"
        }
      ]
    },
    {
      "metadata": {
        "id": "2CnUutWnlHdN",
        "colab_type": "code",
        "outputId": "97504948-5abd-4370-db96-fae4ce7c104d",
        "colab": {
          "base_uri": "https://localhost:8080/",
          "height": 34
        }
      },
      "cell_type": "code",
      "source": [
        "#!mkdir model\n",
        "model.save('keras.h5')\n",
        "!tensorflowjs_converter --input_format keras keras.h5 model/"
      ],
      "execution_count": 0,
      "outputs": [
        {
          "output_type": "stream",
          "text": [
            "Using TensorFlow backend.\n"
          ],
          "name": "stdout"
        }
      ]
    },
    {
      "metadata": {
        "id": "JydBsudglGID",
        "colab_type": "code",
        "outputId": "605888bf-b40c-4286-8a8b-4a45d9d81225",
        "colab": {
          "base_uri": "https://localhost:8080/",
          "height": 68
        }
      },
      "cell_type": "code",
      "source": [
        "!zip -r model.zip model \n",
        "\n",
        "from google.colab import files\n",
        "files.download('model.zip')"
      ],
      "execution_count": 0,
      "outputs": [
        {
          "output_type": "stream",
          "text": [
            "updating: model/ (stored 0%)\n",
            "  adding: model/group1-shard1of1 (deflated 6%)\n",
            "  adding: model/model.json (deflated 77%)\n"
          ],
          "name": "stdout"
        }
      ]
    }
  ]
}