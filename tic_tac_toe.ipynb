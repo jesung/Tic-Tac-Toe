{
  "nbformat": 4,
  "nbformat_minor": 0,
  "metadata": {
    "colab": {
      "name": "tic-tac-toe.ipynb",
      "version": "0.3.2",
      "provenance": [],
      "collapsed_sections": [],
      "include_colab_link": true
    },
    "kernelspec": {
      "name": "python3",
      "display_name": "Python 3"
    }
  },
  "cells": [
    {
      "cell_type": "markdown",
      "metadata": {
        "id": "view-in-github",
        "colab_type": "text"
      },
      "source": [
        "<a href=\"https://colab.research.google.com/github/jesung/Tic-Tac-Toe/blob/master/tic_tac_toe.ipynb\" target=\"_parent\"><img src=\"https://colab.research.google.com/assets/colab-badge.svg\" alt=\"Open In Colab\"/></a>"
      ]
    },
    {
      "metadata": {
        "id": "Q-YV9eVABmka",
        "colab_type": "code",
        "colab": {}
      },
      "cell_type": "code",
      "source": [
        "import pprint\n",
        "import numpy as np\n",
        "import tensorflow as tf\n",
        "from tensorflow import keras\n",
        "import random\n",
        "\n",
        "model = keras.models.Sequential([\n",
        "    keras.layers.Dense(18, activation=tf.nn.relu, input_shape=(1,9)),\n",
        "    keras.layers.Dropout(0.1),\n",
        "    keras.layers.Dense(9, activation=tf.nn.relu),\n",
        "    keras.layers.Dropout(0.1),\n",
        "    keras.layers.Dense(1, activation=tf.nn.sigmoid)\n",
        "])\n",
        "\n",
        "model.compile(optimizer='adam',\n",
        "                  loss='binary_crossentropy',\n",
        "                  metrics=['accuracy','binary_crossentropy'])\n",
        "\n",
        "class tic_tac_toe:\n",
        "    def __init__(self):\n",
        "        self.board = np.array([[2,2,2],[2,2,2],[2,2,2]])\n",
        "        self.turn = 0\n",
        "\n",
        "    def reset(self):\n",
        "        self.board = np.array([[2,2,2],[2,2,2],[2,2,2]])\n",
        "        self.turn = 0\n",
        "\n",
        "    def move(self,x,y):\n",
        "        ##### need to update #######\n",
        "        if False:   \n",
        "            print('Invalid move - game is over')\n",
        "        else:\n",
        "            self.board[x,y] = self.turn\n",
        "            \n",
        "            if self.turn == 0:\n",
        "                self.turn = 1\n",
        "            else:\n",
        "                self.turn = 0\n",
        "\n",
        "    def win(self):\n",
        "        for i in range(3):\n",
        "            if self.board[0,i]==self.board[1,i]==self.board[2,i]<2:\n",
        "                return 'Won'\n",
        "            if self.board[i,0]==self.board[i,1]==self.board[i,2]<2:\n",
        "                return 'Won'\n",
        "\n",
        "        if self.board[0,0]==self.board[1,1]==self.board[2,2]<2:\n",
        "            return 'Won'\n",
        "        if self.board[0,2]==self.board[1,1]==self.board[0,2]<2:\n",
        "            return 'Won'\n",
        "\n",
        "        if not 2 in self.board:\n",
        "            return 'Drawn'\n",
        "        else:\n",
        "            return 'In-Progress'\n",
        "\n",
        "def move_gen(board_state, turn):\n",
        "    legal_moves = {}\n",
        "    \n",
        "    for i in range(3):\n",
        "        for j in range(3):\n",
        "            if board_state[i,j] == 2:\n",
        "                tmp_board = board_state.copy()\n",
        "                tmp_board[i,j] = turn\n",
        "                legal_moves[(i,j)]=tmp_board.flatten()\n",
        "\n",
        "    return legal_moves\n",
        "  \n",
        "def move_sel(move_list):\n",
        "    tmp = np.zeros((9,3))\n",
        "    i = 0\n",
        "\n",
        "    for key, value in move_list.items():\n",
        "      tmp[i,] = [key[0],key[1],model.predict(value.reshape(1,1,9))[0][0][0]]\n",
        "      i = i + 1\n",
        "\n",
        "    j = random.choices(range(9),tmp[:,2])\n",
        "    return (tmp[j,0][0],tmp[j,1][0])\n"
      ],
      "execution_count": 0,
      "outputs": []
    },
    {
      "metadata": {
        "id": "4AKEUSu0BkYP",
        "colab_type": "code",
        "colab": {
          "base_uri": "https://localhost:8080/",
          "height": 34
        },
        "outputId": "4c2a896a-b2b2-4257-a926-95ea86e4a439"
      },
      "cell_type": "code",
      "source": [
        "#model.summary()\n",
        "\n",
        "game = tic_tac_toe()\n",
        "game.move(1,1)\n",
        "\n",
        "#print(game.board)\n",
        "#pprint.pprint(move_gen(game.board,game.turn))\n",
        "\n",
        "move_sel(move_gen(game.board,game.turn))\n",
        "\n"
      ],
      "execution_count": 119,
      "outputs": [
        {
          "output_type": "execute_result",
          "data": {
            "text/plain": [
              "(1.0, 0.0)"
            ]
          },
          "metadata": {
            "tags": []
          },
          "execution_count": 119
        }
      ]
    }
  ]
}