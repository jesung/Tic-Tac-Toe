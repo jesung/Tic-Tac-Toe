{
  "nbformat": 4,
  "nbformat_minor": 0,
  "metadata": {
    "colab": {
      "name": "Copy of tic-tac-toe.ipynb",
      "version": "0.3.2",
      "provenance": [],
      "collapsed_sections": [],
      "include_colab_link": true
    },
    "kernelspec": {
      "name": "python3",
      "display_name": "Python 3"
    }
  },
  "cells": [
    {
      "cell_type": "markdown",
      "metadata": {
        "id": "view-in-github",
        "colab_type": "text"
      },
      "source": [
        "<a href=\"https://colab.research.google.com/github/jesung/Tic-Tac-Toe/blob/master/Copy_of_tic_tac_toe.ipynb\" target=\"_parent\"><img src=\"https://colab.research.google.com/assets/colab-badge.svg\" alt=\"Open In Colab\"/></a>"
      ]
    },
    {
      "metadata": {
        "id": "Q-YV9eVABmka",
        "colab_type": "code",
        "colab": {}
      },
      "cell_type": "code",
      "source": [
        "import pprint\n",
        "import numpy as np\n",
        "import tensorflow as tf\n",
        "from tensorflow import keras\n",
        "import random\n",
        "\n",
        "model = keras.models.Sequential([\n",
        "    keras.layers.Dense(32, activation=tf.nn.relu, input_shape=(1,9)),\n",
        "    keras.layers.Dropout(0.2),\n",
        "    keras.layers.Dense(16, activation=tf.nn.relu),\n",
        "    keras.layers.Dropout(0.2),\n",
        "    keras.layers.Dense(1, activation=tf.nn.sigmoid)\n",
        "])\n",
        "\n",
        "model.compile(optimizer='adam',\n",
        "                  loss='binary_crossentropy',\n",
        "                  metrics=['accuracy','binary_crossentropy'])\n",
        "\n",
        "class tic_tac_toe:\n",
        "    def __init__(self):\n",
        "        self.board = np.array([[0,0,0],[0,0,0],[0,0,0]])\n",
        "        self.turn = 1\n",
        "\n",
        "    def reset(self):\n",
        "        self.board = np.array([[0,0,0],[0,0,0],[0,0,0]])\n",
        "        self.turn = 1\n",
        "\n",
        "    def move(self,x,y):\n",
        "        ##### need to update #######\n",
        "        if self.board[x,y] != 0:   \n",
        "            print('Invalid move',x,y)\n",
        "            print(self.board)\n",
        "        else:\n",
        "            self.board[x,y] = self.turn\n",
        "            self.turn = -1 * self.turn\n",
        "\n",
        "def win(board):\n",
        "    for i in range(3):\n",
        "        if board[0,i]==board[1,i]==board[2,i]!=0:\n",
        "            return 'Won'\n",
        "        if board[i,0]==board[i,1]==board[i,2]!=0:\n",
        "            return 'Won'\n",
        "\n",
        "    if board[0,0]==board[1,1]==board[2,2]!=0:\n",
        "        return 'Won'\n",
        "    if board[0,2]==board[1,1]==board[2,0]!=0:\n",
        "        return 'Won'\n",
        "\n",
        "    if not 0 in board:\n",
        "        return 'Drawn'\n",
        "    else:\n",
        "        return 'In-Progress'\n",
        "          \n",
        "def move_gen(board_state, turn):\n",
        "    legal_moves = {}\n",
        "    \n",
        "    for i in range(3):\n",
        "        for j in range(3):\n",
        "            if board_state[i,j] == 0:\n",
        "                tmp_board = board_state.copy()\n",
        "                tmp_board[i,j] = turn\n",
        "                legal_moves[(i,j)]=tmp_board.flatten()\n",
        "\n",
        "    return legal_moves\n",
        "  \n",
        "def move_sel(move_list, turn, train=True):\n",
        "    tmp = np.zeros((9,12))\n",
        "    i = 0\n",
        "\n",
        "    for key, value in move_list.items():\n",
        "      tmp[i,0:9] = value.reshape(1,9)\n",
        "      tmp[i,9] = model.predict(value.reshape(1,1,9))[0][0][0]\n",
        "      tmp[i,10:12] = [key[0], key[1]]\n",
        "      #print(tmp[j,9], (tmp[j,10],tmp[j,11]))\n",
        "      #if win(value.reshape(3,3)) == 'Win':\n",
        "      #    return tmp[i,0:9], tmp[i,9], (tmp[i,10],tmp[i,11])\n",
        "      i = i + 1\n",
        "    \n",
        "    if random.randint(1,5) == train:\n",
        "      #if turn == 0:\n",
        "        #j = random.choices(range(i),tmp[:i,9]**1)\n",
        "      #else:  \n",
        "        #j = random.choices(range(i),(1-tmp[:i,9])**1)\n",
        "      j = random.randint(0,i-1)\n",
        "    else:\n",
        "      if turn == 1:\n",
        "        j = np.argmax(tmp[:i,9])\n",
        "      else:\n",
        "        j = np.argmin(tmp[:i,9])\n",
        "    \n",
        "    return tmp[j,0:9], tmp[j,9], (tmp[j,10],tmp[j,11])\n",
        "\n",
        "def simulate(batch_size, num_round):\n",
        "  for i in range(num_round):\n",
        "    board, prob, move = move_sel(move_gen(game.board, game.turn), game.turn)\n",
        "    train = [np.append(board,prob)]\n",
        "    result = [0,0,0]\n",
        "    \n",
        "    for j in range(batch_size):\n",
        "      #clean up - train & tmp outside for loops and clear at beginning\n",
        "      board, prob, move = move_sel(move_gen(game.board, game.turn), game.turn)\n",
        "      tmp = [np.append(board,prob)]\n",
        "      \n",
        "      \n",
        "\n",
        "      while win(game.board) == 'In-Progress':\n",
        "        board, prob, move = move_sel(move_gen(game.board, game.turn), game.turn)\n",
        "        tmp = np.append(tmp, [np.append(board,prob)], axis = 0)\n",
        "        \n",
        "        #print(move[0], move[1])\n",
        "        game.move(int(move[0]), int(move[1]))\n",
        "\n",
        "      #update score based on result\n",
        "      if win(game.board) == 'Won':\n",
        "          tmp[:,-1] = (1-game.turn)/2\n",
        "          if game.turn == -1:\n",
        "              result[0] = result[0] + 1        \n",
        "          else:\n",
        "              result[1] = result[1] + 1        \n",
        "      else:\n",
        "          tmp[:,-1] = 0.5\n",
        "          result[2] = result[2] + 1\n",
        "      \n",
        "      #add to training set\n",
        "      train = np.append(train, tmp, axis = 0)\n",
        "      \n",
        "      \n",
        "      game.reset()\n",
        "    \n",
        "    #print(train.shape)\n",
        "    #print(train)\n",
        "    print('Round', i)\n",
        "    model.fit(train[:,0:9].reshape(-1,1,9), train[:,9].reshape(-1,1,1),epochs=3,verbose=0)\n",
        "    print(result[0],'-',result[1],'-',result[2])"
      ],
      "execution_count": 0,
      "outputs": []
    },
    {
      "metadata": {
        "id": "4AKEUSu0BkYP",
        "colab_type": "code",
        "colab": {}
      },
      "cell_type": "code",
      "source": [
        "game = tic_tac_toe()\n",
        "\n",
        "simulate(500,400)\n",
        "\n"
      ],
      "execution_count": 0,
      "outputs": []
    },
    {
      "metadata": {
        "id": "Sd6lu04szCxu",
        "colab_type": "code",
        "outputId": "57450f2f-e15e-4889-c7ff-683817cd19e3",
        "colab": {
          "base_uri": "https://localhost:8080/",
          "height": 153
        }
      },
      "cell_type": "code",
      "source": [
        "#game.reset()\n",
        "game.move(1,0)\n",
        "print(win(game.board))\n",
        "print(game.board)\n",
        "print(game.turn)\n",
        "print(move_sel(move_gen(game.board, game.turn), game.turn, train=False))\n"
      ],
      "execution_count": 40,
      "outputs": [
        {
          "output_type": "stream",
          "text": [
            "In-Progress\n",
            "[[ 1 -1 -1]\n",
            " [ 0  1  1]\n",
            " [ 0  1 -1]]\n",
            "-1\n",
            "0.5613197088241577 (1.0, 0.0)\n",
            "0.9638458490371704 (2.0, 0.0)\n",
            "(array([ 1., -1., -1., -1.,  1.,  1.,  0.,  1., -1.]), 0.5613197088241577, (1.0, 0.0))\n"
          ],
          "name": "stdout"
        }
      ]
    },
    {
      "metadata": {
        "id": "X23JTMn78T7f",
        "colab_type": "code",
        "colab": {}
      },
      "cell_type": "code",
      "source": [
        "game.reset()\n",
        "board, prob, move = move_sel(move_gen(game.board, game.turn), game.turn)\n",
        "tmp = [np.append(board,prob)]\n",
        "\n",
        "while win(game.board) == 'In-Progress':\n",
        "  board, prob, move = move_sel(move_gen(game.board, game.turn), game.turn, train=False)\n",
        "  tmp = np.append(tmp, [np.append(board,prob)], axis = 0)\n",
        "\n",
        "  #print(move[0], move[1])\n",
        "  game.move(int(move[0]), int(move[1]))\n",
        "\n"
      ],
      "execution_count": 0,
      "outputs": []
    },
    {
      "metadata": {
        "id": "xG_EvB9kis9_",
        "colab_type": "code",
        "outputId": "c2c07703-af07-47cc-df30-0564fa0c8c48",
        "colab": {
          "base_uri": "https://localhost:8080/",
          "height": 357
        }
      },
      "cell_type": "code",
      "source": [
        "print(tmp)"
      ],
      "execution_count": 17,
      "outputs": [
        {
          "output_type": "stream",
          "text": [
            "[[ 0.          0.          0.          0.          1.          0.\n",
            "   0.          0.          0.          0.58536655]\n",
            " [ 0.          0.          0.          0.          1.          0.\n",
            "   0.          0.          0.          0.58536655]\n",
            " [-1.          0.          0.          0.          1.          0.\n",
            "   0.          0.          0.          0.56131971]\n",
            " [-1.          0.          0.          1.          1.          0.\n",
            "   0.          0.          0.          0.59707206]\n",
            " [-1.          0.          0.          1.          1.         -1.\n",
            "   0.          0.          0.          0.56131971]\n",
            " [-1.          0.          0.          1.          1.         -1.\n",
            "   0.          0.          1.          0.56131971]\n",
            " [-1.          0.         -1.          1.          1.         -1.\n",
            "   0.          0.          1.          0.45478058]\n",
            " [-1.          1.         -1.          1.          1.         -1.\n",
            "   0.          0.          1.          0.51392728]\n",
            " [-1.          1.         -1.          1.          1.         -1.\n",
            "   0.         -1.          1.          0.56632137]\n",
            " [-1.          1.         -1.          1.          1.         -1.\n",
            "   1.         -1.          1.          0.47694805]]\n"
          ],
          "name": "stdout"
        }
      ]
    },
    {
      "metadata": {
        "id": "qZamrUh2ivWr",
        "colab_type": "code",
        "colab": {}
      },
      "cell_type": "code",
      "source": [
        "def move_sel(move_list, turn, train=True):\n",
        "    tmp = np.zeros((9,12))\n",
        "    i = 0\n",
        "\n",
        "    for key, value in move_list.items():\n",
        "      tmp[i,0:9] = value.reshape(1,9)\n",
        "      tmp[i,9] = model.predict(value.reshape(1,1,9))[0][0][0]\n",
        "      tmp[i,10:12] = [key[0], key[1]]\n",
        "      print(tmp[i,9], (tmp[i,10],tmp[i,11]))\n",
        "      #if win(value.reshape(3,3)) == 'Win':\n",
        "      #    return tmp[i,0:9], tmp[i,9], (tmp[i,10],tmp[i,11])\n",
        "      i = i + 1\n",
        "    \n",
        "    if random.randint(1,5) == train:\n",
        "      #if turn == 0:\n",
        "        #j = random.choices(range(i),tmp[:i,9]**1)\n",
        "      #else:  \n",
        "        #j = random.choices(range(i),(1-tmp[:i,9])**1)\n",
        "      j = random.randint(0,i-1)\n",
        "    else:\n",
        "      if turn == 1:\n",
        "        j = np.argmax(tmp[:i,9])\n",
        "      else:\n",
        "        j = np.argmin(tmp[:i,9])\n",
        "    \n",
        "    return tmp[j,0:9], tmp[j,9], (tmp[j,10],tmp[j,11])"
      ],
      "execution_count": 0,
      "outputs": []
    }
  ]
}